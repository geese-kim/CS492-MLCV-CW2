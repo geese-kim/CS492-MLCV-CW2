{
  "nbformat": 4,
  "nbformat_minor": 0,
  "metadata": {
    "accelerator": "GPU",
    "colab": {
      "name": "dcgan.ipynb",
      "provenance": [],
      "collapsed_sections": [],
      "toc_visible": true,
      "include_colab_link": true
    },
    "kernelspec": {
      "display_name": "Python 3",
      "name": "python3",
      "language": "python"
    }
  },
  "cells": [
    {
      "cell_type": "markdown",
      "metadata": {
        "id": "view-in-github",
        "colab_type": "text"
      },
      "source": [
        "<a href=\"https://colab.research.google.com/github/geese-kim/CS492-MLCV-CW2/blob/geese/dcgan.ipynb\" target=\"_parent\"><img src=\"https://colab.research.google.com/assets/colab-badge.svg\" alt=\"Open In Colab\"/></a>"
      ]
    },
    {
      "cell_type": "markdown",
      "metadata": {
        "id": "_jQ1tEQCxwRx"
      },
      "source": [
        "##### Copyright 2019 The TensorFlow Authors."
      ]
    },
    {
      "cell_type": "code",
      "metadata": {
        "cellView": "form",
        "id": "V_sgB_5dx1f1"
      },
      "source": [
        "#@title Licensed under the Apache License, Version 2.0 (the \"License\");\n",
        "# you may not use this file except in compliance with the License.\n",
        "# You may obtain a copy of the License at\n",
        "#\n",
        "# https://www.apache.org/licenses/LICENSE-2.0\n",
        "#\n",
        "# Unless required by applicable law or agreed to in writing, software\n",
        "# distributed under the License is distributed on an \"AS IS\" BASIS,\n",
        "# WITHOUT WARRANTIES OR CONDITIONS OF ANY KIND, either express or implied.\n",
        "# See the License for the specific language governing permissions and\n",
        "# limitations under the License.\n"
      ],
      "execution_count": 12,
      "outputs": [
        {
          "output_type": "stream",
          "name": "stdout",
          "text": [
            "Coursework2_2020.pdf  dcgan.ipynb  README.md\n"
          ]
        }
      ]
    },
    {
      "cell_type": "markdown",
      "metadata": {
        "id": "rF2x3qooyBTI"
      },
      "source": [
        "# 심층 합성곱 생성적 적대 신경망"
      ]
    },
    {
      "cell_type": "markdown",
      "metadata": {
        "id": "0TD5ZrvEMbhZ"
      },
      "source": [
        "<table class=\"tfo-notebook-buttons\" align=\"left\">\n",
        "  <td>\n",
        "    <a target=\"_blank\" href=\"https://www.tensorflow.org/tutorials/generative/dcgan\">\n",
        "    <img src=\"https://www.tensorflow.org/images/tf_logo_32px.png\" />\n",
        "    TensorFlow.org에서 보기</a>\n",
        "  </td>\n",
        "  <td>\n",
        "    <a target=\"_blank\" href=\"https://colab.research.google.com/github/tensorflow/docs-l10n/blob/master/site/ko/tutorials/generative/dcgan.ipynb\">\n",
        "    <img src=\"https://www.tensorflow.org/images/colab_logo_32px.png\" />\n",
        "    구글 코랩(Colab)에서 실행하기</a>\n",
        "  </td>\n",
        "  <td>\n",
        "    <a target=\"_blank\" href=\"https://github.com/tensorflow/docs-l10n/blob/master/site/ko/tutorials/generative/dcgan.ipynb\">\n",
        "    <img src=\"https://www.tensorflow.org/images/GitHub-Mark-32px.png\" />\n",
        "    깃허브(GitHub)소스 보기</a>\n",
        "  </td>\n",
        "  <td>\n",
        "    <a href=\"https://storage.googleapis.com/tensorflow_docs/docs-l10n/site/ko/tutorials/generative/dcgan.ipynb\"><img src=\"https://www.tensorflow.org/images/download_logo_32px.png\" />Download notebook</a>\n",
        "  </td>\n",
        "</table>"
      ]
    },
    {
      "cell_type": "markdown",
      "metadata": {
        "id": "bBxnTS5bBk2d"
      },
      "source": [
        "Note: 이 문서는 텐서플로 커뮤니티에서 번역했습니다. 커뮤니티 번역 활동의 특성상 정확한 번역과 최신 내용을 반영하기 위해 노력함에도\n",
        "불구하고 [공식 영문 문서](https://www.tensorflow.org/?hl=en)의 내용과 일치하지 않을 수 있습니다.\n",
        "이 번역에 개선할 부분이 있다면\n",
        "[tensorflow/docs-l10n](https://github.com/tensorflow/docs-l10n/) 깃헙 저장소로 풀 리퀘스트를 보내주시기 바랍니다.\n",
        "문서 번역이나 리뷰에 참여하려면\n",
        "[docs-ko@tensorflow.org](https://groups.google.com/a/tensorflow.org/forum/#!forum/docs-ko)로\n",
        "메일을 보내주시기 바랍니다."
      ]
    },
    {
      "cell_type": "markdown",
      "metadata": {
        "id": "ITZuApL56Mny"
      },
      "source": [
        "이 튜토리얼은 [심층 합성곱 생성적 적대 신경망](https://arxiv.org/pdf/1511.06434.pdf) (Deep Convolutional Generative Adversarial Networks, DCGAN)을 이용하여, 손으로 쓴 숫자들을 어떻게 생성할 수 있는지 보여줍니다. 이 코드는 [케라스 Sequential API](https://www.tensorflow.org/guide/keras)와 `tf.GradientTape` 훈련 루프를 사용하여 작성됐습니다."
      ]
    },
    {
      "cell_type": "markdown",
      "metadata": {
        "id": "2MbKJY38Puy9"
      },
      "source": [
        "## 생성적 적대 신경망(GANs)은 무엇인가요? \n",
        "\n",
        "[생성적 적대 신경망](https://arxiv.org/abs/1406.2661) (Generative Adversarial Networks, GANs)은 요즘 컴퓨터 과학에서 가장 흥미로운 아이디어 중 하나입니다. 두개의 모델이 적대적인 과정을 통해 동시에 훈련됩니다. *생성자* (\"예술가\")는 진짜처럼 보이는 이미지를 생성하도록 배우는 와중에, *감별자* (\"예술비평가\")는 가짜의 이미지로부터 진짜를 구별하게 되는 것을 배우게 됩니다.\n",
        "\n",
        "![생성자와 감별자를 그린 도표](https://tensorflow.org/tutorials/generative/images/gan1.png)\n",
        "\n",
        "\n",
        "\n",
        "훈련과정 동안 *생성자*는 점차 실제같은 이미지를 더 잘 생성하게 되고, *감별자*는 점차 진짜와 가짜를 더 잘 구별하게됩니다. 이 과정은 *감별자*가 가짜 이미지에서 진짜 이미지를 더이상 구별하지 못하게 될때, 평형상태에 도달하게 됩니다. \n",
        "\n",
        "![생성자와 감별자를 그린 두번째 도표](https://tensorflow.org/tutorials/generative/images/gan2.png)\n",
        "\n",
        "이 노트북은 이 과정을 MNIST 데이터를 이용하여 보여줍니다. 아래의 애니메이션은 50 에포크(epoch)동안 훈련한 *생성자*가 생성해낸 연속된 이미지들을 보여줍니다. 이미지들은 랜덤한 잡음으로 부터 시작되었고, 점차 시간이 지남에 따라 손으로 쓴 숫자들을 닮아가게 됩니다.\n",
        "\n",
        "![출력 예시](https://tensorflow.org/images/gan/dcgan.gif)\n",
        "\n",
        "생성적 적대 신경망 (GANs)에 대해 더 배우고 싶으시다면, MIT의 [Intro to Deep Learning](http://introtodeeplearning.com/) 수업을 추천합니다."
      ]
    },
    {
      "cell_type": "markdown",
      "metadata": {
        "id": "e1_Y75QXJS6h"
      },
      "source": [
        "### 텐서플로와 다른 라이브러리 불러오기"
      ]
    },
    {
      "cell_type": "code",
      "metadata": {
        "id": "WZKbyU2-AiY-"
      },
      "source": [
        "import tensorflow as tf"
      ],
      "execution_count": 1,
      "outputs": []
    },
    {
      "cell_type": "code",
      "metadata": {
        "id": "wx-zNbLqB4K8",
        "outputId": "e3a7d8a0-9bab-4881-ff6c-bdd402e8016f",
        "colab": {
          "base_uri": "https://localhost:8080/",
          "height": 35
        }
      },
      "source": [
        "tf.__version__"
      ],
      "execution_count": 2,
      "outputs": [
        {
          "output_type": "execute_result",
          "data": {
            "text/plain": [
              "'2.3.1'"
            ]
          },
          "metadata": {},
          "execution_count": 2
        }
      ]
    },
    {
      "cell_type": "code",
      "metadata": {
        "id": "YfIk2es3hJEd"
      },
      "source": [
        "import glob\n",
        "import imageio\n",
        "import matplotlib.pyplot as plt\n",
        "import numpy as np\n",
        "import os\n",
        "import PIL\n",
        "from tensorflow.keras import layers\n",
        "import time\n",
        "\n",
        "from IPython import display\n",
        "if not os.path.exists('./fig'):\n",
        "    os.mkdir('./fig')"
      ],
      "execution_count": 4,
      "outputs": []
    },
    {
      "cell_type": "markdown",
      "metadata": {
        "id": "iYn4MdZnKCey"
      },
      "source": [
        "### 데이터셋 로딩 및 준비\n",
        "생성자와 감별자를 훈련하기위해 MNIST 데이터셋을 사용할것입니다. 생성자는 손글씨 숫자 데이터를 닮은 숫자들을 생성할 것입니다. "
      ]
    },
    {
      "cell_type": "code",
      "metadata": {
        "id": "a4fYMGxGhrna",
        "outputId": "aedbce14-3163-482b-fcbb-ad1a9258863f",
        "colab": {
          "base_uri": "https://localhost:8080/"
        }
      },
      "source": [
        "(train_images, train_labels), (test_images, test_labels) = tf.keras.datasets.mnist.load_data()"
      ],
      "execution_count": 24,
      "outputs": []
    },
    {
      "cell_type": "code",
      "metadata": {
        "id": "NFC2ghIdiZYE"
      },
      "source": [
        "train_images = train_images.reshape(train_images.shape[0], 28, 28, 1).astype('float32')\n",
        "train_images = (train_images - 127.5) / 127.5 # 이미지를 [-1, 1]로 정규화합니다."
      ],
      "execution_count": 25,
      "outputs": []
    },
    {
      "cell_type": "code",
      "execution_count": 26,
      "metadata": {},
      "outputs": [],
      "source": [
        "test_images = test_images.reshape(test_images.shape[0], 28, 28, 1).astype('float32')\n",
        "test_images = (test_images - 127.5) / 127.5 # 이미지를 [-1, 1]로 정규화합니다."
      ]
    },
    {
      "cell_type": "code",
      "metadata": {
        "id": "S4PIDhoDLbsZ"
      },
      "source": [
        "BUFFER_SIZE = 60000\n",
        "BATCH_SIZE = 256"
      ],
      "execution_count": 7,
      "outputs": []
    },
    {
      "cell_type": "code",
      "metadata": {
        "id": "-yKCCQOoJ7cn"
      },
      "source": [
        "# 데이터 배치를 만들고 섞습니다. (train)\n",
        "train_dataset = tf.data.Dataset.from_tensor_slices(train_images).shuffle(BUFFER_SIZE).batch(BATCH_SIZE)"
      ],
      "execution_count": 8,
      "outputs": []
    },
    {
      "cell_type": "markdown",
      "metadata": {
        "id": "THY-sZMiQ4UV"
      },
      "source": [
        "## 모델 만들기 \n",
        "생성자와 감별자는 [케라스 Sequential API](https://www.tensorflow.org/guide/keras#sequential_model)를 이용해 정의됩니다. "
      ]
    },
    {
      "cell_type": "markdown",
      "metadata": {
        "id": "-tEyxE-GMC48"
      },
      "source": [
        "### 생성자\n",
        "\n",
        "생성자는 시드값 (seed; 랜덤한 잡음)으로부터 이미지를 생성하기 위해, `tf.keras.layers.Conv2DTranspose` (업샘플링) 층을 이용합니다. 처음 `Dense`층은 이 시드값을 인풋으로 받습니다. 그 다음 원하는 사이즈 28x28x1의 이미지가 나오도록 업샘플링을 여러번 합니다. tanh를 사용하는 마지막 층을 제외한 나머지 각 층마다 활성함수로 `tf.keras.layers.LeakyReLU`을 사용하고 있음을 주목합시다."
      ]
    },
    {
      "cell_type": "code",
      "metadata": {
        "id": "6bpTcDqoLWjY"
      },
      "source": [
        "def make_generator_model():\n",
        "    model = tf.keras.Sequential()\n",
        "    model.add(layers.Dense(7*7*256, use_bias=False, input_shape=(100,)))\n",
        "    model.add(layers.BatchNormalization())\n",
        "    model.add(layers.LeakyReLU())\n",
        "\n",
        "    model.add(layers.Reshape((7, 7, 256)))\n",
        "    assert model.output_shape == (None, 7, 7, 256) # 주목: 배치사이즈로 None이 주어집니다.\n",
        "\n",
        "    model.add(layers.Conv2DTranspose(128, (5, 5), strides=(1, 1), padding='same', use_bias=False))\n",
        "    assert model.output_shape == (None, 7, 7, 128)\n",
        "    model.add(layers.BatchNormalization())\n",
        "    model.add(layers.LeakyReLU())\n",
        "\n",
        "    model.add(layers.Conv2DTranspose(64, (5, 5), strides=(2, 2), padding='same', use_bias=False))\n",
        "    assert model.output_shape == (None, 14, 14, 64)\n",
        "    model.add(layers.BatchNormalization())\n",
        "    model.add(layers.LeakyReLU())\n",
        "\n",
        "    model.add(layers.Conv2DTranspose(1, (5, 5), strides=(2, 2), padding='same', use_bias=False, activation='tanh'))\n",
        "    assert model.output_shape == (None, 28, 28, 1)\n",
        "\n",
        "    return model"
      ],
      "execution_count": 9,
      "outputs": []
    },
    {
      "cell_type": "markdown",
      "metadata": {
        "id": "GyWgG09LCSJl"
      },
      "source": [
        "(아직 훈련이 되지않은) 생성자를 이용해 이미지를 생성해봅시다. "
      ]
    },
    {
      "cell_type": "code",
      "metadata": {
        "id": "gl7jcC7TdPTG",
        "outputId": "8b37e5fb-1067-4029-8d2f-13694fe8e694",
        "colab": {
          "base_uri": "https://localhost:8080/",
          "height": 282
        }
      },
      "source": [
        "generator = make_generator_model()\n",
        "\n",
        "noise = tf.random.normal([1, 100])\n",
        "generated_image = generator(noise, training=False)\n",
        "\n",
        "plt.imshow(generated_image[0, :, :, 0], cmap='gray')"
      ],
      "execution_count": 10,
      "outputs": [
        {
          "output_type": "execute_result",
          "data": {
            "text/plain": [
              "<matplotlib.image.AxesImage at 0x7f83102959a0>"
            ]
          },
          "metadata": {},
          "execution_count": 10
        },
        {
          "output_type": "display_data",
          "data": {
            "text/plain": "<Figure size 432x288 with 1 Axes>",
            "image/svg+xml": "<?xml version=\"1.0\" encoding=\"utf-8\" standalone=\"no\"?>\n<!DOCTYPE svg PUBLIC \"-//W3C//DTD SVG 1.1//EN\"\n  \"http://www.w3.org/Graphics/SVG/1.1/DTD/svg11.dtd\">\n<!-- Created with matplotlib (https://matplotlib.org/) -->\n<svg height=\"248.518125pt\" version=\"1.1\" viewBox=\"0 0 251.565 248.518125\" width=\"251.565pt\" xmlns=\"http://www.w3.org/2000/svg\" xmlns:xlink=\"http://www.w3.org/1999/xlink\">\n <metadata>\n  <rdf:RDF xmlns:cc=\"http://creativecommons.org/ns#\" xmlns:dc=\"http://purl.org/dc/elements/1.1/\" xmlns:rdf=\"http://www.w3.org/1999/02/22-rdf-syntax-ns#\">\n   <cc:Work>\n    <dc:type rdf:resource=\"http://purl.org/dc/dcmitype/StillImage\"/>\n    <dc:date>2020-12-14T13:27:10.865876</dc:date>\n    <dc:format>image/svg+xml</dc:format>\n    <dc:creator>\n     <cc:Agent>\n      <dc:title>Matplotlib v3.3.3, https://matplotlib.org/</dc:title>\n     </cc:Agent>\n    </dc:creator>\n   </cc:Work>\n  </rdf:RDF>\n </metadata>\n <defs>\n  <style type=\"text/css\">*{stroke-linecap:butt;stroke-linejoin:round;}</style>\n </defs>\n <g id=\"figure_1\">\n  <g id=\"patch_1\">\n   <path d=\"M 0 248.518125 \nL 251.565 248.518125 \nL 251.565 0 \nL 0 0 \nz\n\" style=\"fill:none;\"/>\n  </g>\n  <g id=\"axes_1\">\n   <g id=\"patch_2\">\n    <path d=\"M 26.925 224.64 \nL 244.365 224.64 \nL 244.365 7.2 \nL 26.925 7.2 \nz\n\" style=\"fill:#ffffff;\"/>\n   </g>\n   <g clip-path=\"url(#p470890bf5d)\">\n    <image height=\"218\" id=\"imagee7b6cd07cd\" transform=\"scale(1 -1)translate(0 -218)\" width=\"218\" x=\"26.925\" xlink:href=\"data:image/png;base64,\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\" y=\"-6.64\"/>\n   </g>\n   <g id=\"matplotlib.axis_1\">\n    <g id=\"xtick_1\">\n     <g id=\"line2d_1\">\n      <defs>\n       <path d=\"M 0 0 \nL 0 3.5 \n\" id=\"m1b9d104250\" style=\"stroke:#000000;stroke-width:0.8;\"/>\n      </defs>\n      <g>\n       <use style=\"stroke:#000000;stroke-width:0.8;\" x=\"30.807857\" xlink:href=\"#m1b9d104250\" y=\"224.64\"/>\n      </g>\n     </g>\n     <g id=\"text_1\">\n      <!-- 0 -->\n      <g transform=\"translate(27.626607 239.238437)scale(0.1 -0.1)\">\n       <defs>\n        <path d=\"M 31.78125 66.40625 \nQ 24.171875 66.40625 20.328125 58.90625 \nQ 16.5 51.421875 16.5 36.375 \nQ 16.5 21.390625 20.328125 13.890625 \nQ 24.171875 6.390625 31.78125 6.390625 \nQ 39.453125 6.390625 43.28125 13.890625 \nQ 47.125 21.390625 47.125 36.375 \nQ 47.125 51.421875 43.28125 58.90625 \nQ 39.453125 66.40625 31.78125 66.40625 \nz\nM 31.78125 74.21875 \nQ 44.046875 74.21875 50.515625 64.515625 \nQ 56.984375 54.828125 56.984375 36.375 \nQ 56.984375 17.96875 50.515625 8.265625 \nQ 44.046875 -1.421875 31.78125 -1.421875 \nQ 19.53125 -1.421875 13.0625 8.265625 \nQ 6.59375 17.96875 6.59375 36.375 \nQ 6.59375 54.828125 13.0625 64.515625 \nQ 19.53125 74.21875 31.78125 74.21875 \nz\n\" id=\"DejaVuSans-48\"/>\n       </defs>\n       <use xlink:href=\"#DejaVuSans-48\"/>\n      </g>\n     </g>\n    </g>\n    <g id=\"xtick_2\">\n     <g id=\"line2d_2\">\n      <g>\n       <use style=\"stroke:#000000;stroke-width:0.8;\" x=\"69.636429\" xlink:href=\"#m1b9d104250\" y=\"224.64\"/>\n      </g>\n     </g>\n     <g id=\"text_2\">\n      <!-- 5 -->\n      <g transform=\"translate(66.455179 239.238437)scale(0.1 -0.1)\">\n       <defs>\n        <path d=\"M 10.796875 72.90625 \nL 49.515625 72.90625 \nL 49.515625 64.59375 \nL 19.828125 64.59375 \nL 19.828125 46.734375 \nQ 21.96875 47.46875 24.109375 47.828125 \nQ 26.265625 48.1875 28.421875 48.1875 \nQ 40.625 48.1875 47.75 41.5 \nQ 54.890625 34.8125 54.890625 23.390625 \nQ 54.890625 11.625 47.5625 5.09375 \nQ 40.234375 -1.421875 26.90625 -1.421875 \nQ 22.3125 -1.421875 17.546875 -0.640625 \nQ 12.796875 0.140625 7.71875 1.703125 \nL 7.71875 11.625 \nQ 12.109375 9.234375 16.796875 8.0625 \nQ 21.484375 6.890625 26.703125 6.890625 \nQ 35.15625 6.890625 40.078125 11.328125 \nQ 45.015625 15.765625 45.015625 23.390625 \nQ 45.015625 31 40.078125 35.4375 \nQ 35.15625 39.890625 26.703125 39.890625 \nQ 22.75 39.890625 18.8125 39.015625 \nQ 14.890625 38.140625 10.796875 36.28125 \nz\n\" id=\"DejaVuSans-53\"/>\n       </defs>\n       <use xlink:href=\"#DejaVuSans-53\"/>\n      </g>\n     </g>\n    </g>\n    <g id=\"xtick_3\">\n     <g id=\"line2d_3\">\n      <g>\n       <use style=\"stroke:#000000;stroke-width:0.8;\" x=\"108.465\" xlink:href=\"#m1b9d104250\" y=\"224.64\"/>\n      </g>\n     </g>\n     <g id=\"text_3\">\n      <!-- 10 -->\n      <g transform=\"translate(102.1025 239.238437)scale(0.1 -0.1)\">\n       <defs>\n        <path d=\"M 12.40625 8.296875 \nL 28.515625 8.296875 \nL 28.515625 63.921875 \nL 10.984375 60.40625 \nL 10.984375 69.390625 \nL 28.421875 72.90625 \nL 38.28125 72.90625 \nL 38.28125 8.296875 \nL 54.390625 8.296875 \nL 54.390625 0 \nL 12.40625 0 \nz\n\" id=\"DejaVuSans-49\"/>\n       </defs>\n       <use xlink:href=\"#DejaVuSans-49\"/>\n       <use x=\"63.623047\" xlink:href=\"#DejaVuSans-48\"/>\n      </g>\n     </g>\n    </g>\n    <g id=\"xtick_4\">\n     <g id=\"line2d_4\">\n      <g>\n       <use style=\"stroke:#000000;stroke-width:0.8;\" x=\"147.293571\" xlink:href=\"#m1b9d104250\" y=\"224.64\"/>\n      </g>\n     </g>\n     <g id=\"text_4\">\n      <!-- 15 -->\n      <g transform=\"translate(140.931071 239.238437)scale(0.1 -0.1)\">\n       <use xlink:href=\"#DejaVuSans-49\"/>\n       <use x=\"63.623047\" xlink:href=\"#DejaVuSans-53\"/>\n      </g>\n     </g>\n    </g>\n    <g id=\"xtick_5\">\n     <g id=\"line2d_5\">\n      <g>\n       <use style=\"stroke:#000000;stroke-width:0.8;\" x=\"186.122143\" xlink:href=\"#m1b9d104250\" y=\"224.64\"/>\n      </g>\n     </g>\n     <g id=\"text_5\">\n      <!-- 20 -->\n      <g transform=\"translate(179.759643 239.238437)scale(0.1 -0.1)\">\n       <defs>\n        <path d=\"M 19.1875 8.296875 \nL 53.609375 8.296875 \nL 53.609375 0 \nL 7.328125 0 \nL 7.328125 8.296875 \nQ 12.9375 14.109375 22.625 23.890625 \nQ 32.328125 33.6875 34.8125 36.53125 \nQ 39.546875 41.84375 41.421875 45.53125 \nQ 43.3125 49.21875 43.3125 52.78125 \nQ 43.3125 58.59375 39.234375 62.25 \nQ 35.15625 65.921875 28.609375 65.921875 \nQ 23.96875 65.921875 18.8125 64.3125 \nQ 13.671875 62.703125 7.8125 59.421875 \nL 7.8125 69.390625 \nQ 13.765625 71.78125 18.9375 73 \nQ 24.125 74.21875 28.421875 74.21875 \nQ 39.75 74.21875 46.484375 68.546875 \nQ 53.21875 62.890625 53.21875 53.421875 \nQ 53.21875 48.921875 51.53125 44.890625 \nQ 49.859375 40.875 45.40625 35.40625 \nQ 44.1875 33.984375 37.640625 27.21875 \nQ 31.109375 20.453125 19.1875 8.296875 \nz\n\" id=\"DejaVuSans-50\"/>\n       </defs>\n       <use xlink:href=\"#DejaVuSans-50\"/>\n       <use x=\"63.623047\" xlink:href=\"#DejaVuSans-48\"/>\n      </g>\n     </g>\n    </g>\n    <g id=\"xtick_6\">\n     <g id=\"line2d_6\">\n      <g>\n       <use style=\"stroke:#000000;stroke-width:0.8;\" x=\"224.950714\" xlink:href=\"#m1b9d104250\" y=\"224.64\"/>\n      </g>\n     </g>\n     <g id=\"text_6\">\n      <!-- 25 -->\n      <g transform=\"translate(218.588214 239.238437)scale(0.1 -0.1)\">\n       <use xlink:href=\"#DejaVuSans-50\"/>\n       <use x=\"63.623047\" xlink:href=\"#DejaVuSans-53\"/>\n      </g>\n     </g>\n    </g>\n   </g>\n   <g id=\"matplotlib.axis_2\">\n    <g id=\"ytick_1\">\n     <g id=\"line2d_7\">\n      <defs>\n       <path d=\"M 0 0 \nL -3.5 0 \n\" id=\"m29572089ad\" style=\"stroke:#000000;stroke-width:0.8;\"/>\n      </defs>\n      <g>\n       <use style=\"stroke:#000000;stroke-width:0.8;\" x=\"26.925\" xlink:href=\"#m29572089ad\" y=\"11.082857\"/>\n      </g>\n     </g>\n     <g id=\"text_7\">\n      <!-- 0 -->\n      <g transform=\"translate(13.5625 14.882076)scale(0.1 -0.1)\">\n       <use xlink:href=\"#DejaVuSans-48\"/>\n      </g>\n     </g>\n    </g>\n    <g id=\"ytick_2\">\n     <g id=\"line2d_8\">\n      <g>\n       <use style=\"stroke:#000000;stroke-width:0.8;\" x=\"26.925\" xlink:href=\"#m29572089ad\" y=\"49.911429\"/>\n      </g>\n     </g>\n     <g id=\"text_8\">\n      <!-- 5 -->\n      <g transform=\"translate(13.5625 53.710647)scale(0.1 -0.1)\">\n       <use xlink:href=\"#DejaVuSans-53\"/>\n      </g>\n     </g>\n    </g>\n    <g id=\"ytick_3\">\n     <g id=\"line2d_9\">\n      <g>\n       <use style=\"stroke:#000000;stroke-width:0.8;\" x=\"26.925\" xlink:href=\"#m29572089ad\" y=\"88.74\"/>\n      </g>\n     </g>\n     <g id=\"text_9\">\n      <!-- 10 -->\n      <g transform=\"translate(7.2 92.539219)scale(0.1 -0.1)\">\n       <use xlink:href=\"#DejaVuSans-49\"/>\n       <use x=\"63.623047\" xlink:href=\"#DejaVuSans-48\"/>\n      </g>\n     </g>\n    </g>\n    <g id=\"ytick_4\">\n     <g id=\"line2d_10\">\n      <g>\n       <use style=\"stroke:#000000;stroke-width:0.8;\" x=\"26.925\" xlink:href=\"#m29572089ad\" y=\"127.568571\"/>\n      </g>\n     </g>\n     <g id=\"text_10\">\n      <!-- 15 -->\n      <g transform=\"translate(7.2 131.36779)scale(0.1 -0.1)\">\n       <use xlink:href=\"#DejaVuSans-49\"/>\n       <use x=\"63.623047\" xlink:href=\"#DejaVuSans-53\"/>\n      </g>\n     </g>\n    </g>\n    <g id=\"ytick_5\">\n     <g id=\"line2d_11\">\n      <g>\n       <use style=\"stroke:#000000;stroke-width:0.8;\" x=\"26.925\" xlink:href=\"#m29572089ad\" y=\"166.397143\"/>\n      </g>\n     </g>\n     <g id=\"text_11\">\n      <!-- 20 -->\n      <g transform=\"translate(7.2 170.196362)scale(0.1 -0.1)\">\n       <use xlink:href=\"#DejaVuSans-50\"/>\n       <use x=\"63.623047\" xlink:href=\"#DejaVuSans-48\"/>\n      </g>\n     </g>\n    </g>\n    <g id=\"ytick_6\">\n     <g id=\"line2d_12\">\n      <g>\n       <use style=\"stroke:#000000;stroke-width:0.8;\" x=\"26.925\" xlink:href=\"#m29572089ad\" y=\"205.225714\"/>\n      </g>\n     </g>\n     <g id=\"text_12\">\n      <!-- 25 -->\n      <g transform=\"translate(7.2 209.024933)scale(0.1 -0.1)\">\n       <use xlink:href=\"#DejaVuSans-50\"/>\n       <use x=\"63.623047\" xlink:href=\"#DejaVuSans-53\"/>\n      </g>\n     </g>\n    </g>\n   </g>\n   <g id=\"patch_3\">\n    <path d=\"M 26.925 224.64 \nL 26.925 7.2 \n\" style=\"fill:none;stroke:#000000;stroke-linecap:square;stroke-linejoin:miter;stroke-width:0.8;\"/>\n   </g>\n   <g id=\"patch_4\">\n    <path d=\"M 244.365 224.64 \nL 244.365 7.2 \n\" style=\"fill:none;stroke:#000000;stroke-linecap:square;stroke-linejoin:miter;stroke-width:0.8;\"/>\n   </g>\n   <g id=\"patch_5\">\n    <path d=\"M 26.925 224.64 \nL 244.365 224.64 \n\" style=\"fill:none;stroke:#000000;stroke-linecap:square;stroke-linejoin:miter;stroke-width:0.8;\"/>\n   </g>\n   <g id=\"patch_6\">\n    <path d=\"M 26.925 7.2 \nL 244.365 7.2 \n\" style=\"fill:none;stroke:#000000;stroke-linecap:square;stroke-linejoin:miter;stroke-width:0.8;\"/>\n   </g>\n  </g>\n </g>\n <defs>\n  <clipPath id=\"p470890bf5d\">\n   <rect height=\"217.44\" width=\"217.44\" x=\"26.925\" y=\"7.2\"/>\n  </clipPath>\n </defs>\n</svg>\n",
            "image/png": "[encoded data removed]"
          },
          "metadata": {
            "needs_background": "light"
          }
        }
      ]
    },
    {
      "cell_type": "markdown",
      "metadata": {
        "id": "D0IKnaCtg6WE"
      },
      "source": [
        "### 감별자 \n",
        "감별자는 합성곱 신경망(Convolutional Neural Network, CNN) 기반의 이미지 분류기입니다. "
      ]
    },
    {
      "cell_type": "code",
      "metadata": {
        "id": "dw2tPLmk2pEP"
      },
      "source": [
        "def make_discriminator_model():\n",
        "    model = tf.keras.Sequential()\n",
        "    model.add(layers.Conv2D(64, (5, 5), strides=(2, 2), padding='same',\n",
        "                                     input_shape=[28, 28, 1]))\n",
        "    model.add(layers.LeakyReLU())\n",
        "    model.add(layers.Dropout(0.3))\n",
        "\n",
        "    model.add(layers.Conv2D(128, (5, 5), strides=(2, 2), padding='same'))\n",
        "    model.add(layers.LeakyReLU())\n",
        "    model.add(layers.Dropout(0.3))\n",
        "\n",
        "    model.add(layers.Flatten())\n",
        "    model.add(layers.Dense(1))\n",
        "\n",
        "    return model"
      ],
      "execution_count": 11,
      "outputs": []
    },
    {
      "cell_type": "markdown",
      "metadata": {
        "id": "QhPneagzCaQv"
      },
      "source": [
        "(아직까지 훈련이 되지 않은) 감별자를 사용하여, 생성된 이미지가 진짜인지 가짜인지 판별합니다. 모델은 진짜 이미지에는 양수의 값 (positive values)을, 가짜 이미지에는 음수의 값 (negative values)을 출력하도록 훈련되어집니다."
      ]
    },
    {
      "cell_type": "code",
      "metadata": {
        "id": "gDkA05NE6QMs",
        "outputId": "065b7a06-bd3a-452d-a680-c88f475d8cbc",
        "colab": {
          "base_uri": "https://localhost:8080/"
        }
      },
      "source": [
        "discriminator = make_discriminator_model()\n",
        "decision = discriminator(generated_image)\n",
        "print (decision)"
      ],
      "execution_count": 12,
      "outputs": [
        {
          "output_type": "stream",
          "name": "stdout",
          "text": [
            "tf.Tensor([[-0.00225416]], shape=(1, 1), dtype=float32)\n"
          ]
        }
      ]
    },
    {
      "cell_type": "markdown",
      "metadata": {
        "id": "0FMYgY_mPfTi"
      },
      "source": [
        "## 손실함수와 옵티마이저 정의\n",
        "두 모델의 손실함수와 옵티마이저를 정의합니다. "
      ]
    },
    {
      "cell_type": "code",
      "metadata": {
        "id": "psQfmXxYKU3X"
      },
      "source": [
        "# 이 메서드는 크로스 엔트로피 손실함수 (cross entropy loss)를 계산하기 위해 헬퍼 (helper) 함수를 반환합니다.\n",
        "cross_entropy = tf.keras.losses.BinaryCrossentropy(from_logits=True)"
      ],
      "execution_count": 13,
      "outputs": []
    },
    {
      "cell_type": "markdown",
      "metadata": {
        "id": "PKY_iPSPNWoj"
      },
      "source": [
        "### 감별자 손실함수\n",
        "\n",
        "이 메서드는 감별자가 가짜 이미지에서 얼마나 진짜 이미지를 잘 판별하는지 수치화합니다. 진짜 이미지에 대한 감별자의 예측과 1로 이루어진 행렬을 비교하고, 가짜 (생성된) 이미지에 대한 감별자의 예측과 0으로 이루어진 행렬을 비교합니다."
      ]
    },
    {
      "cell_type": "code",
      "metadata": {
        "id": "wkMNfBWlT-PV"
      },
      "source": [
        "def discriminator_loss(real_output, fake_output, alpha=1):\n",
        "    '''\n",
        "        one-sided label smoothing:\n",
        "            alpha=0.9\n",
        "    '''\n",
        "    smoothed_label=tf.fill(tf.shape(real_output), alpha)\n",
        "    # real_loss = cross_entropy(tf.ones_like(real_output), real_output)\n",
        "    real_loss = cross_entropy(smoothed_label, real_output)\n",
        "    fake_loss = cross_entropy(tf.zeros_like(fake_output), fake_output)\n",
        "    total_loss = real_loss + fake_loss\n",
        "    return total_loss"
      ],
      "execution_count": 14,
      "outputs": []
    },
    {
      "cell_type": "markdown",
      "metadata": {
        "id": "Jd-3GCUEiKtv"
      },
      "source": [
        "### 생성자 손실함수\n",
        "\n",
        "생성자의 손실함수는 감별자를 얼마나 잘 속였는지에 대해 수치화를 합니다. 직관적으로 생성자가 원활히 수행되고 있다면, 감별자는 가짜 이미지를 진짜 (또는 1)로 분류를 할 것입니다. 여기서 우리는 생성된 이미지에 대한 감별자의 결정을 1로 이루어진 행렬과 비교를 할 것입니다. "
      ]
    },
    {
      "cell_type": "code",
      "metadata": {
        "id": "90BIcCKcDMxz"
      },
      "source": [
        "def generator_loss(fake_output):\n",
        "    return cross_entropy(tf.ones_like(fake_output), fake_output)"
      ],
      "execution_count": 15,
      "outputs": []
    },
    {
      "cell_type": "markdown",
      "metadata": {
        "id": "MgIc7i0th_Iu"
      },
      "source": [
        "감별자와 생성자는 따로 훈련되기 때문에, 감별자와 생성자의 옵티마이저는 다릅니다."
      ]
    },
    {
      "cell_type": "code",
      "metadata": {
        "id": "iWCn_PVdEJZ7"
      },
      "source": [
        "generator_optimizer = tf.keras.optimizers.Adam(1e-4)\n",
        "discriminator_optimizer = tf.keras.optimizers.Adam(1e-4)"
      ],
      "execution_count": 16,
      "outputs": []
    },
    {
      "cell_type": "markdown",
      "metadata": {
        "id": "mWtinsGDPJlV"
      },
      "source": [
        "### 체크포인트 저장\n",
        "이 노트북은 오랫동안 진행되는 훈련이 방해되는 경우에 유용하게 쓰일 수 있는 모델의 저장방법과 복구방법을 보여줍니다. "
      ]
    },
    {
      "cell_type": "code",
      "metadata": {
        "id": "CA1w-7s2POEy"
      },
      "source": [
        "checkpoint_dir = './training_checkpoints'\n",
        "checkpoint_prefix = os.path.join(checkpoint_dir, \"ckpt\")\n",
        "checkpoint = tf.train.Checkpoint(generator_optimizer=generator_optimizer,\n",
        "                                 discriminator_optimizer=discriminator_optimizer,\n",
        "                                 generator=generator,\n",
        "                                 discriminator=discriminator)"
      ],
      "execution_count": 17,
      "outputs": []
    },
    {
      "cell_type": "markdown",
      "metadata": {
        "id": "Rw1fkAczTQYh"
      },
      "source": [
        "## 훈련 루프 정의하기"
      ]
    },
    {
      "cell_type": "code",
      "metadata": {
        "id": "NS2GWywBbAWo"
      },
      "source": [
        "EPOCHS = 50\n",
        "noise_dim = 100\n",
        "num_examples_to_generate = 16\n",
        "smooth_alpha=0.9\n",
        "\n",
        "train_hist = {}\n",
        "train_hist['D_losses'] = []\n",
        "train_hist['G_losses'] = []\n",
        "train_hist['per_epoch_ptimes'] = []\n",
        "train_hist['total_ptime'] = []\n",
        "\n",
        "# 이 시드를 시간이 지나도 재활용하겠습니다. \n",
        "# (GIF 애니메이션에서 진전 내용을 시각화하는데 쉽기 때문입니다.) \n",
        "seed = tf.random.normal([num_examples_to_generate, noise_dim])"
      ],
      "execution_count": 21,
      "outputs": []
    },
    {
      "cell_type": "markdown",
      "metadata": {
        "id": "jylSonrqSWfi"
      },
      "source": [
        "훈련 루프는 생성자가 입력으로 랜덤시드를 받는 것으로부터 시작됩니다. 그 시드값을 사용하여 이미지를 생성합니다. 감별자를 사용하여 (훈련 세트에서 갖고온) 진짜 이미지와 (생성자가 생성해낸) 가짜이미지를 분류합니다. 각 모델의 손실을 계산하고, 그래디언트 (gradients)를 사용해 생성자와 감별자를 업데이트합니다."
      ]
    },
    {
      "cell_type": "code",
      "metadata": {
        "id": "3t5ibNo05jCB"
      },
      "source": [
        "# `tf.function`이 어떻게 사용되는지 주목해 주세요.\n",
        "# 이 데코레이터는 함수를 \"컴파일\"합니다.\n",
        "@tf.function\n",
        "def train_step(images):\n",
        "    noise = tf.random.normal([BATCH_SIZE, noise_dim])\n",
        "\n",
        "    with tf.GradientTape() as gen_tape, tf.GradientTape() as disc_tape:\n",
        "      generated_images = generator(noise, training=True)\n",
        "\n",
        "      real_output = discriminator(images, training=True)\n",
        "      fake_output = discriminator(generated_images, training=True)\n",
        "\n",
        "      gen_loss = generator_loss(fake_output)\n",
        "      disc_loss = discriminator_loss(real_output, fake_output, smooth_alpha)\n",
        "\n",
        "    gradients_of_generator = gen_tape.gradient(gen_loss, generator.trainable_variables)\n",
        "    gradients_of_discriminator = disc_tape.gradient(disc_loss, discriminator.trainable_variables)\n",
        "\n",
        "    generator_optimizer.apply_gradients(zip(gradients_of_generator, generator.trainable_variables))\n",
        "    discriminator_optimizer.apply_gradients(zip(gradients_of_discriminator, discriminator.trainable_variables))"
      ],
      "execution_count": 20,
      "outputs": []
    },
    {
      "cell_type": "code",
      "metadata": {
        "id": "2M7LmLtGEMQJ"
      },
      "source": [
        "def train(dataset, epochs):\n",
        "  for epoch in range(epochs):\n",
        "    start = time.time()\n",
        "\n",
        "    for image_batch in dataset:\n",
        "      train_step(image_batch)\n",
        "\n",
        "    # GIF를 위한 이미지를 바로 생성합니다.\n",
        "    display.clear_output(wait=True)\n",
        "    generate_and_save_images(generator,\n",
        "                             epoch + 1,\n",
        "                             seed)\n",
        "\n",
        "    # 15 에포크가 지날 때마다 모델을 저장합니다.\n",
        "    if (epoch + 1) % 15 == 0:\n",
        "      checkpoint.save(file_prefix = checkpoint_prefix)\n",
        "    \n",
        "    # print (' 에포크 {} 에서 걸린 시간은 {} 초 입니다'.format(epoch +1, time.time()-start))\n",
        "    print ('Time for epoch {} is {} sec'.format(epoch + 1, time.time()-start))\n",
        "\n",
        "  # 마지막 에포크가 끝난 후 생성합니다.\n",
        "  display.clear_output(wait=True)\n",
        "  generate_and_save_images(generator,\n",
        "                           epochs,\n",
        "                           seed)"
      ],
      "execution_count": 24,
      "outputs": []
    },
    {
      "cell_type": "markdown",
      "metadata": {
        "id": "2aFF7Hk3XdeW"
      },
      "source": [
        "**이미지 생성 및 저장**\n"
      ]
    },
    {
      "cell_type": "code",
      "metadata": {
        "id": "RmdVsmvhPxyy"
      },
      "source": [
        "def generate_and_save_images(model, epoch, test_input):\n",
        "  # `training`이 False로 맞춰진 것을 주목하세요.\n",
        "  # 이렇게 하면 (배치정규화를 포함하여) 모든 층들이 추론 모드로 실행됩니다. \n",
        "  predictions = model(test_input, training=False)\n",
        "\n",
        "  fig = plt.figure(figsize=(4,4))\n",
        "\n",
        "  for i in range(predictions.shape[0]):\n",
        "      plt.subplot(4, 4, i+1)\n",
        "      plt.imshow(predictions[i, :, :, 0] * 127.5 + 127.5, cmap='gray')\n",
        "      plt.axis('off')\n",
        "\n",
        "  plt.savefig('./fig/image_at_epoch_{:04d}.png'.format(epoch))\n",
        "  plt.show()"
      ],
      "execution_count": 21,
      "outputs": []
    },
    {
      "cell_type": "markdown",
      "metadata": {
        "id": "dZrd4CdjR-Fp"
      },
      "source": [
        "## 모델 훈련\n",
        "위에 정의된 `train()` 메서드를 생성자와 감별자를 동시에 훈련하기 위해 호출합니다. 생성적 적대 신경망을 학습하는 것은 매우 까다로울 수 있습니다. 생성자와 감별자가 서로를 제압하지 않는 것이 중요합니다. (예를 들어 학습률이 비슷하면 한쪽이 우세해집니다.)\n",
        "훈련 초반부에는 생성된 이미지는 랜덤한 노이즈처럼 보입니다. 훈련이 진행될수록, 생성된 숫자는 점차 진짜처럼 보일 것입니다. 약 50 에포크가 지난 후, MNIST 숫자와 닮은 이미지가 생성됩니다. 코랩에서 기본 설정으로 실행하면, 에포크마다 1분정도 소요될 것입니다."
      ]
    },
    {
      "cell_type": "code",
      "metadata": {
        "id": "Ly3UN0SLLY2l",
        "outputId": "842f5fbf-320e-4a39-f3b4-70879c58f520",
        "colab": {
          "base_uri": "https://localhost:8080/",
          "height": 282
        }
      },
      "source": [
        "%%time\n",
        "train(train_dataset, EPOCHS)"
      ],
      "execution_count": 27,
      "outputs": [
        {
          "output_type": "display_data",
          "data": {
            "text/plain": "<Figure size 288x288 with 16 Axes>",
            "image/svg+xml": "<?xml version=\"1.0\" encoding=\"utf-8\" standalone=\"no\"?>\n<!DOCTYPE svg PUBLIC \"-//W3C//DTD SVG 1.1//EN\"\n  \"http://www.w3.org/Graphics/SVG/1.1/DTD/svg11.dtd\">\n<!-- Created with matplotlib (https://matplotlib.org/) -->\n<svg height=\"231.84pt\" version=\"1.1\" viewBox=\"0 0 236.347826 231.84\" width=\"236.347826pt\" xmlns=\"http://www.w3.org/2000/svg\" xmlns:xlink=\"http://www.w3.org/1999/xlink\">\n <metadata>\n  <rdf:RDF xmlns:cc=\"http://creativecommons.org/ns#\" xmlns:dc=\"http://purl.org/dc/elements/1.1/\" xmlns:rdf=\"http://www.w3.org/1999/02/22-rdf-syntax-ns#\">\n   <cc:Work>\n    <dc:type rdf:resource=\"http://purl.org/dc/dcmitype/StillImage\"/>\n    <dc:date>2020-12-07T23:44:24.886383</dc:date>\n    <dc:format>image/svg+xml</dc:format>\n    <dc:creator>\n     <cc:Agent>\n      <dc:title>Matplotlib v3.3.3, https://matplotlib.org/</dc:title>\n     </cc:Agent>\n    </dc:creator>\n   </cc:Work>\n  </rdf:RDF>\n </metadata>\n <defs>\n  <style type=\"text/css\">*{stroke-linecap:butt;stroke-linejoin:round;}</style>\n </defs>\n <g id=\"figure_1\">\n  <g id=\"patch_1\">\n   <path d=\"M 0 231.84 \nL 236.347826 231.84 \nL 236.347826 0 \nL 0 0 \nz\n\" style=\"fill:none;\"/>\n  </g>\n  <g id=\"axes_1\">\n   <g clip-path=\"url(#pcdbae6a0c8)\">\n    <image height=\"48\" id=\"imaged0680ffa85\" transform=\"scale(1 -1)translate(0 -48)\" width=\"48\" x=\"7.2\" xlink:href=\"data:image/png;base64,\niVBORw0KGgoAAAANSUhEUgAAADAAAAAwCAYAAABXAvmHAAAIT0lEQVR4nO2Zy24bVRzGf3Mf350EN+PgxElMaBUuioqgsIAVG0TFAlSJJwDxBLwDGxa8ARIICZ4AsUDQQmlom4Y22DSFxnJqp7Ed3z1XHxaVRxQJ2qQJEVI/aVaeGf9/Puf8z/cdS5IkCSEE/1dJwP+3ekA+7gIeVY8Bjlvqfm6WJAld15FlGUVR8DwPz/MYjUZHVd8DtS8AuAehaRqRSATHcVAUhdFohKIoRKPR8L5er4frugRBcKgF/137BhBCEIlEyOfz2LaN4zgAJBIJzpw5gyRJBEHAhQsXqFQqtFqtIx2hfQEIIRiNRnieh23byLJMIpFgZWUFy7J4/vnnkWUZIQT5fJ56vc6tW7fY2dmhWCzS7/dD4GMBAPB9H8dx6HQ6TE5OkkqleOutt1haWmJhYQFVVVEUBSEEw+GQH3/8kcuXL9NqtajVascPIITAtm12d3fpdDrs7Ozw3Xff0Ww2yeVyKIoS3msYBs899xwzMzOcPHmSzz//nG+++YZ2u31oa2PfAABBENDv97Ftm8FgwM2bNzEMg52dHaLRKKZpoqoqkiQxNTVFOp0mm81y5coV1tfXGQwGhwbwyFZCkiSi0SiRSATLspiZmWFubo5CoUA2m+WNN94gGo2i6zqXLl1ifX2djz76iHK5zGF4sAONwF8lhGAwGOC6Lp7n0ev16HQ6tFotMpkMsViMfD4fLnTP83jxxRdJpVJcv379UDqUOKpLVVVRKBTEBx98IDzPE0EQCM/zxA8//CA++eQTYZqmkCTp0b7jkfH/RUEQUK/XKZfLXL16lbm5OTKZDPPz88iyzPvvv8/m5ibFYpG7d+/S7/f3PSJHCiCEoN1uU61WuXHjBvF4nOnpaSzLIhaL8fbbb3Px4kUcx8G2bTzPw3XdfUH8J3kgmUwyNzfHhx9+yLvvvoskSfi+T7PZ5M6dO/zxxx9cvnyZra0tvv32W7rdLr1e76Heve8RGBs5wzDwfR/f9wmC4F87ymAwoFwu02g0GAwGaJqGEAJN05iYmGA0GtFqtVBVlY2NDYCjAZAkCdM0SafTLC4uUqvVaDabdLvd+yD+DiOEwPd9qtUqpVKJ6elpZFlmMBgwGo2IxWIsLy9jWRbtdptisUitVnuoNrsvgEgkwtmzZ8lmsywsLLC3t0e73ebixYu0Wi1c12VycjKc47Iss7e3h6IoxONxTp48SSQSQZIkhBAIIVBVFVVVkWUZwzBYXFyk1WqhKMoDR3bfAIlEgvfee49CoUA+n8d1Xfr9Ph9//DG3b9+m2+2yvLzMK6+8wszMDLqu8+uvv6KqKpOTkzzxxBOk02lkWQ53Yk3TiMViJJNJPM/j1KlT1Ov10KYfGoAkSciyTCwWwzTNMBfE43HOnTtHp9Oh2+2STqc5ceIEyWQSVVWZmJgAQNd1dF1HVVWCIGA0GmEYBoqioGla+P4nn3yS6elpDMNgNBo9sCPtexH/9VeRZRld1zl16hSu69LtdkPLPS5oamoKSZLue8f4eU3TkGUZSZLCKxKJYJomiqIgyw9OvA8NMHahq6urOI5DNpsNP9M07d7LVJUbN27w008/Affc6AsvvIBpmmEUHYNJkoSqqhiGgWmajEYjXNelUqnQaDTCdXFoAACu67K2toZpmrz66qvIshwGGMdx2NraolgscvXqVYQQKIpCt9vFMAw0TUPTNFRVDc1dMpkkHo+TSCRotVp0u11KpRKlUumh4+i+NzJFUTh79iyffvoppmmiaRqO41CtVvnss8+4cOECX3/99X2Lbzw9YrEYkUiE2dlZ0uk0hUKBTCbD9PQ0a2trbG9vs76+HhrCh9GB1sDe3h5ra2ssLi5iWVaY0hqNBr1eL2yRYwkhkCQJx3EQQtDr9VBVlX6/jyzLeJ7HzZs3qVQqtNttPM976HoOlMg6nQ7FYpFUKkUmkwk3ql6vh23b//hcEAT4vh92F9/3GQwGeJ5HpVKhXC7j+/6+6jmQmWs0Gpw/fx7Lssjn8yiKQjqd5s0330SSJDY2NnAc576OJUkSlmVhWRbvvPMOuVyO+fl5Go0G29vbrK6uHiilHQhgOBxSqVRoNpsMh8P75vbc3Byzs7PUarX77PE4Xi4sLPD0008zOztLNpvFNE1s2w472X8C0G63uXLlCi+//DLPPvssS0tLoVUIgoBUKsUXX3xBqVRiOBwC9/aMl156iddff52VlRVSqRTRaBTP8+h0OhiGEVqMIwcIggDXdfn999+5dOkSlmVhGAaqqpJIJMhms8zOzjIYDOh0Oui6HhrAscUYN4Pd3V3u3LmDbdsHysgHAhBC4Hkev/zyC8PhkNdee42pqSkURSGRSJDL5XjqqacAuHv3LslkkqWlJZaXl8nlcqiqiuM47O7uUi6X2dzcDLvXfwYQBAHVahXbtjl//jzNZpOVlRVM02RmZoYzZ85QKBTC07tcLkcmkyGRSFCtVqlUKnz11VfUajW2t7ep1WoHKeXgkXLcz33fp1Qqoaoq8/Pz6LpOJBIhl8sxMTFBIpEgHo+TyWTCOd7r9ajVaqyurtJsNtnb2/vH9ntkAHDvmHE4HPLll1/y/fffc+vWLZ555hlOnz5NOp0mk8kQj8dRVRVd13FdF8dxuH37Nr/99htbW1thFj7o8cojAYydZ6vVQgjB9evXGQ6HDIdD0ul0eNhlmibxeJx6vU6j0eDatWtsbm7iOE64sR1Uhxbqx/nANE1isRgnTpwgnU5z+vRpJicnyefz/Pzzz2xsbHDt2jW63W5oLR5Fh3asMrYTtm3j+z6e51Gv12m320SjURKJBDs7O6Ff8jzvUI4WH//Netx6DHDcegxw3HoMcNz6E+svcjB5IQ5pAAAAAElFTkSuQmCC\" y=\"-6.469565\"/>\n   </g>\n  </g>\n  <g id=\"axes_2\">\n   <g clip-path=\"url(#p8b5666e725)\">\n    <image height=\"48\" id=\"image170afc615b\" transform=\"scale(1 -1)translate(0 -48)\" width=\"48\" x=\"65.426087\" xlink:href=\"data:image/png;base64,\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\" y=\"-6.469565\"/>\n   </g>\n  </g>\n  <g id=\"axes_3\">\n   <g clip-path=\"url(#pff886eb9b0)\">\n    <image height=\"48\" id=\"image867540942c\" transform=\"scale(1 -1)translate(0 -48)\" width=\"48\" x=\"123.652174\" xlink:href=\"data:image/png;base64,\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\" y=\"-6.469565\"/>\n   </g>\n  </g>\n  <g id=\"axes_4\">\n   <g clip-path=\"url(#pb844268a97)\">\n    <image height=\"48\" id=\"imagea62c1b36f3\" transform=\"scale(1 -1)translate(0 -48)\" width=\"48\" x=\"181.878261\" xlink:href=\"data:image/png;base64,\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\" y=\"-6.469565\"/>\n   </g>\n  </g>\n  <g id=\"axes_5\">\n   <g clip-path=\"url(#p43b22a7079)\">\n    <image height=\"48\" id=\"image0dd03bdd2a\" transform=\"scale(1 -1)translate(0 -48)\" width=\"48\" x=\"7.2\" xlink:href=\"data:image/png;base64,\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\" y=\"-63.193043\"/>\n   </g>\n  </g>\n  <g id=\"axes_6\">\n   <g clip-path=\"url(#p368ce228ad)\">\n    <image height=\"48\" id=\"imagef997ef6042\" transform=\"scale(1 -1)translate(0 -48)\" width=\"48\" x=\"65.426087\" xlink:href=\"data:image/png;base64,\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\" y=\"-63.193043\"/>\n   </g>\n  </g>\n  <g id=\"axes_7\">\n   <g clip-path=\"url(#p6647da1d31)\">\n    <image height=\"48\" id=\"image7d2313549c\" transform=\"scale(1 -1)translate(0 -48)\" width=\"48\" x=\"123.652174\" xlink:href=\"data:image/png;base64,\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\" y=\"-63.193043\"/>\n   </g>\n  </g>\n  <g id=\"axes_8\">\n   <g clip-path=\"url(#pd70e11142c)\">\n    <image height=\"48\" id=\"image2c2b335346\" transform=\"scale(1 -1)translate(0 -48)\" width=\"48\" x=\"181.878261\" xlink:href=\"data:image/png;base64,\niVBORw0KGgoAAAANSUhEUgAAADAAAAAwCAYAAABXAvmHAAAFKklEQVR4nO2ZzWsT2xvHP2dmkk6Smbw1Vm1IxUaTRYsLV0XduHPRjbgS/wp3/gsuxIU7d/4F7gURQVEKFoVQq9CFhWCcxGScqXmZt3MXPzo/ucrlQk9ur3C/cHaH53u+87zM85wjAMlvDO24D3BUKBcghEDT/rnvopyp3W5z8+ZNzpw5g2EYqs3/BOUCGo0GV69e5cSJE+i6rtr8TxAoTuJ6vU6z2WRvbw/XdRmPx0g5vzqh3ANJkhBFEY1Gg3a7PfcwUm692Wxy/fp1Ll++jKZpbG5u4jiOapoUyj0QhiGe57GwsEC5XMa2bXK5nGqaFMoFfP/+nV6vhxACy7KoVCpYlqWaJoVyAYPBgHfv3uG6LpZlcefOHW7duqWaJoXyHBiPx/R6PSaTCYZhcPHiRfr9PkKIuVSjuQiI45jBYEC/32d3d5f9/f25CZhbGdU0jUwmg23bFItFTNOcS0lVblFKSZIkmKZJuVzmwoULOI5DtVplNBoRRZFSPuUCMpkMuVyOTCaDEIIgCAjDkDiOf48QMgyDXC6HrusIIYii6PcSkMlksCwLTdOI45gkSZBSpks15jYPzGYzDg4OGA6H+L6vmibFXDqtJEnodrvs7Oywvb3Nzs7OPGiAOQjIZrOUy2Wq1SpLS0usr69j2zZhGLK1tcXu7q5SPuUCcrkctVqN5eVlzp49y7lz5xiNRrTbbXzfVy5AaQ4IIdIyqmkaQgh0Xce2bVZXVymXyyrpAIUChBAIIQDSUTJJEoQQaViZppnuUQWlAhYWFoiiiMFgwHA4xHVdpJTouk4+n8c0zdQ7qqBUgK7rGIZBNpvFdV2+fPlCEATEcYwQAtu2qdVqSnsipUmsaRqFQoHFxUX29/eRUrK8vIxt25imyenTp1lbW8N1XYIgUMKpTMBhrJ8/f57NzU2WlpYolUqYppm2FRsbG1iWxfv37/E8TwmvUg/ouk69XufSpUtp+5zNZtOYX1tbo9FocO/ePWXzgbIciOOY0WiUrvF4TBAEBEGQttCHM8KpU6c4efKkkoqkzANSSsIwxHEcOp0O5XKZQqHAyspKOtAc9kkrKysMBgMcx1HiBaly6bouTdOUi4uLstVqyfv378snT57IOI5lkiQyiiL58uVL+eDBA5nNZo/Mp7yViOM4baOTJOH58+d4nsfq6iq1Wg3btqnX6ziOQz6fT0fQo0CpB361NjY25OPHj+Xe3p5MkkTGcSy3t7dlo9GQlmUdybbyy91foVqt0mq1uH37Njdu3EDTNDzP49WrV/i+z7dv33j06BGdTgfP80iS5G/bnv8FPjAcDtna2uLjx484jkOtVqNUKnHt2jUODg7wfZ83b97geR5fv34lCAKm02k6Tx8KOqxaPyb+Lz3wq40q0Gg0WFlZ4eHDh7TbbXRdT28xXNdlMpkwnU759OkTz54948WLF3Q6HXzfJ0kSDMNIc+ZwRP1HPHCI4XBIFEU8ffqUz58/s76+TqFQIJ/PUyqVKBaLzGYzoiii2WzS7XbxfZ9ut0sYhpimSRiGzGYzptPp/3osjuGV0jAMWq0Wd+/epdls0mw20+oVxzG+79Pr9Xj79i0fPnzg9evXTCYTisUi4/EY13UZDAZMp9PjESCEoFKpcOXKFarVKpVKJQ0lKSWz2Qzf9+n3+4xGI3q9HlEUYZomURSlHoii6HgE/Ahd18lkMunhhRAkSUIcx8D/8/DwL/7nV9BjFwD81BP9VfH4ca8Q4t8h4Cj476X+uPGfgOPGby1ACMEfUGnGfNQBokgAAAAASUVORK5CYII=\" y=\"-63.193043\"/>\n   </g>\n  </g>\n  <g id=\"axes_9\">\n   <g clip-path=\"url(#pa030dd91a2)\">\n    <image height=\"48\" id=\"image13a60c8c5a\" transform=\"scale(1 -1)translate(0 -48)\" width=\"48\" x=\"7.2\" xlink:href=\"data:image/png;base64,\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\" y=\"-119.916522\"/>\n   </g>\n  </g>\n  <g id=\"axes_10\">\n   <g clip-path=\"url(#p6fe9b2d497)\">\n    <image height=\"48\" id=\"image55ee86006c\" transform=\"scale(1 -1)translate(0 -48)\" width=\"48\" x=\"65.426087\" xlink:href=\"data:image/png;base64,\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\" y=\"-119.916522\"/>\n   </g>\n  </g>\n  <g id=\"axes_11\">\n   <g clip-path=\"url(#pe752521f59)\">\n    <image height=\"48\" id=\"imagefacae9ca8d\" transform=\"scale(1 -1)translate(0 -48)\" width=\"48\" x=\"123.652174\" xlink:href=\"data:image/png;base64,\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\" y=\"-119.916522\"/>\n   </g>\n  </g>\n  <g id=\"axes_12\">\n   <g clip-path=\"url(#pc9381a546e)\">\n    <image height=\"48\" id=\"image37ad4534c3\" transform=\"scale(1 -1)translate(0 -48)\" width=\"48\" x=\"181.878261\" xlink:href=\"data:image/png;base64,\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\" y=\"-119.916522\"/>\n   </g>\n  </g>\n  <g id=\"axes_13\">\n   <g clip-path=\"url(#p1b36fd1df8)\">\n    <image height=\"48\" id=\"image7d7f957230\" transform=\"scale(1 -1)translate(0 -48)\" width=\"48\" x=\"7.2\" xlink:href=\"data:image/png;base64,\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\" y=\"-176.64\"/>\n   </g>\n  </g>\n  <g id=\"axes_14\">\n   <g clip-path=\"url(#pe319662704)\">\n    <image height=\"48\" id=\"image619bd2e4f4\" transform=\"scale(1 -1)translate(0 -48)\" width=\"48\" x=\"65.426087\" xlink:href=\"data:image/png;base64,\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\" y=\"-176.64\"/>\n   </g>\n  </g>\n  <g id=\"axes_15\">\n   <g clip-path=\"url(#ped257a8ccb)\">\n    <image height=\"48\" id=\"image55d0a63f49\" transform=\"scale(1 -1)translate(0 -48)\" width=\"48\" x=\"123.652174\" xlink:href=\"data:image/png;base64,\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\" y=\"-176.64\"/>\n   </g>\n  </g>\n  <g id=\"axes_16\">\n   <g clip-path=\"url(#p4d0ae7ac2a)\">\n    <image height=\"48\" id=\"image1bd47c3a1b\" transform=\"scale(1 -1)translate(0 -48)\" width=\"48\" x=\"181.878261\" xlink:href=\"data:image/png;base64,\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\" y=\"-176.64\"/>\n   </g>\n  </g>\n </g>\n <defs>\n  <clipPath id=\"pcdbae6a0c8\">\n   <rect height=\"47.269565\" width=\"47.269565\" x=\"7.2\" y=\"7.2\"/>\n  </clipPath>\n  <clipPath id=\"p8b5666e725\">\n   <rect height=\"47.269565\" width=\"47.269565\" x=\"65.426087\" y=\"7.2\"/>\n  </clipPath>\n  <clipPath id=\"pff886eb9b0\">\n   <rect height=\"47.269565\" width=\"47.269565\" x=\"123.652174\" y=\"7.2\"/>\n  </clipPath>\n  <clipPath id=\"pb844268a97\">\n   <rect height=\"47.269565\" width=\"47.269565\" x=\"181.878261\" y=\"7.2\"/>\n  </clipPath>\n  <clipPath id=\"p43b22a7079\">\n   <rect height=\"47.269565\" width=\"47.269565\" x=\"7.2\" y=\"63.923478\"/>\n  </clipPath>\n  <clipPath id=\"p368ce228ad\">\n   <rect height=\"47.269565\" width=\"47.269565\" x=\"65.426087\" y=\"63.923478\"/>\n  </clipPath>\n  <clipPath id=\"p6647da1d31\">\n   <rect height=\"47.269565\" width=\"47.269565\" x=\"123.652174\" y=\"63.923478\"/>\n  </clipPath>\n  <clipPath id=\"pd70e11142c\">\n   <rect height=\"47.269565\" width=\"47.269565\" x=\"181.878261\" y=\"63.923478\"/>\n  </clipPath>\n  <clipPath id=\"pa030dd91a2\">\n   <rect height=\"47.269565\" width=\"47.269565\" x=\"7.2\" y=\"120.646957\"/>\n  </clipPath>\n  <clipPath id=\"p6fe9b2d497\">\n   <rect height=\"47.269565\" width=\"47.269565\" x=\"65.426087\" y=\"120.646957\"/>\n  </clipPath>\n  <clipPath id=\"pe752521f59\">\n   <rect height=\"47.269565\" width=\"47.269565\" x=\"123.652174\" y=\"120.646957\"/>\n  </clipPath>\n  <clipPath id=\"pc9381a546e\">\n   <rect height=\"47.269565\" width=\"47.269565\" x=\"181.878261\" y=\"120.646957\"/>\n  </clipPath>\n  <clipPath id=\"p1b36fd1df8\">\n   <rect height=\"47.269565\" width=\"47.269565\" x=\"7.2\" y=\"177.370435\"/>\n  </clipPath>\n  <clipPath id=\"pe319662704\">\n   <rect height=\"47.269565\" width=\"47.269565\" x=\"65.426087\" y=\"177.370435\"/>\n  </clipPath>\n  <clipPath id=\"ped257a8ccb\">\n   <rect height=\"47.269565\" width=\"47.269565\" x=\"123.652174\" y=\"177.370435\"/>\n  </clipPath>\n  <clipPath id=\"p4d0ae7ac2a\">\n   <rect height=\"47.269565\" width=\"47.269565\" x=\"181.878261\" y=\"177.370435\"/>\n  </clipPath>\n </defs>\n</svg>\n",
            "image/png": "[encoded data removed]"
          },
          "metadata": {
            "needs_background": "light"
          }
        },
        {
          "output_type": "stream",
          "name": "stdout",
          "text": [
            "CPU times: user 20h 21min 15s, sys: 22min 42s, total: 20h 43min 58s\nWall time: 51min 17s\n"
          ]
        }
      ]
    },
    {
      "cell_type": "markdown",
      "metadata": {
        "id": "rfM4YcPVPkNO"
      },
      "source": [
        "마지막 체크포인트를 복구합니다."
      ]
    },
    {
      "cell_type": "code",
      "metadata": {
        "id": "XhXsd0srPo8c",
        "outputId": "22b25ad4-f4aa-4394-e730-b0c2cf2d38ac",
        "colab": {
          "base_uri": "https://localhost:8080/"
        }
      },
      "source": [
        "model=checkpoint.restore(tf.train.latest_checkpoint(checkpoint_dir))"
      ],
      "execution_count": 23,
      "outputs": [
        {
          "output_type": "stream",
          "name": "stdout",
          "text": [
            "<tensorflow.python.training.tracking.util.CheckpointLoadStatus object at 0x7f831013bf70>\n"
          ]
        }
      ]
    },
    {
      "cell_type": "code",
      "execution_count": null,
      "metadata": {},
      "outputs": [],
      "source": [
        "def generate_images(model, epoch, test_input):\n",
        "  # `training`이 False로 맞춰진 것을 주목하세요.\n",
        "  # 이렇게 하면 (배치정규화를 포함하여) 모든 층들이 추론 모드로 실행됩니다. \n",
        "  predictions = model(test_input, training=False)\n",
        "\n",
        "  fig = plt.figure(figsize=(4,4))\n",
        "\n",
        "  for i in range(predictions.shape[0]):\n",
        "      plt.subplot(4, 4, i+1)\n",
        "      plt.imshow(predictions[i, :, :, 0] * 127.5 + 127.5, cmap='gray')\n",
        "      plt.axis('off')\n",
        "\n",
        "  plt.savefig('./fig/image_at_epoch_{:04d}.png'.format(epoch))\n",
        "  plt.show()"
      ]
    },
    {
      "cell_type": "markdown",
      "metadata": {
        "id": "P4M_vIbUi7c0"
      },
      "source": [
        "## GIF 생성"
      ]
    },
    {
      "cell_type": "code",
      "metadata": {
        "id": "WfO5wCdclHGL"
      },
      "source": [
        "# 에포크 숫자를 사용하여 하나의 이미지를 보여줍니다.\n",
        "def display_image(epoch_no):\n",
        "  return PIL.Image.open('./fig/image_at_epoch_{:04d}.png'.format(epoch_no))"
      ],
      "execution_count": 19,
      "outputs": []
    },
    {
      "cell_type": "code",
      "metadata": {
        "id": "5x3q9_Oe5q0A",
        "outputId": "cdc5f690-ed0f-4ec9-cd53-42e186238741",
        "colab": {
          "base_uri": "https://localhost:8080/",
          "height": 305
        }
      },
      "source": [
        "display_image(EPOCHS)"
      ],
      "execution_count": 22,
      "outputs": [
        {
          "output_type": "execute_result",
          "data": {
            "text/plain": [
              "<PIL.PngImagePlugin.PngImageFile image mode=RGBA size=288x288 at 0x7F8310184FD0>"
            ],
            "image/png": "[encoded data removed]"
          },
          "metadata": {},
          "execution_count": 22
        }
      ]
    },
    {
      "cell_type": "markdown",
      "metadata": {
        "id": "NywiH3nL8guF"
      },
      "source": [
        "`imageio`로 훈련 중에 저장된 이미지를 사용해 GIF 애니메이션을 만듭니다."
      ]
    },
    {
      "cell_type": "code",
      "metadata": {
        "id": "IGKQgENQ8lEI"
      },
      "source": [
        "anim_file = 'dcgan.gif'\n",
        "\n",
        "with imageio.get_writer(anim_file, mode='I') as writer:\n",
        "  filenames = glob.glob('./fig/image*.png')\n",
        "  filenames = sorted(filenames)\n",
        "  last = -1\n",
        "  for i,filename in enumerate(filenames):\n",
        "    frame = 2*(i**0.5)\n",
        "    if round(frame) > round(last):\n",
        "      last = frame\n",
        "    else:\n",
        "      continue\n",
        "    image = imageio.imread(filename)\n",
        "    writer.append_data(image)\n",
        "  image = imageio.imread(filename)\n",
        "  writer.append_data(image)\n",
        "\n",
        "import IPython\n",
        "if IPython.version_info > (6,2,0,''):\n",
        "  display.Image(filename=anim_file)"
      ],
      "execution_count": 36,
      "outputs": []
    },
    {
      "cell_type": "markdown",
      "metadata": {
        "id": "cGhC3-fMWSwl"
      },
      "source": [
        "코랩에서 작업하고 있다면, 아래의 코드에서 애니메이션을 다운로드 받을 수 있습니다: "
      ]
    },
    {
      "cell_type": "code",
      "metadata": {
        "id": "uV0yiKpzNP1b",
        "outputId": "a357d199-72f9-41d6-dcdd-2b5dcf48e685",
        "colab": {
          "base_uri": "https://localhost:8080/",
          "height": 17
        }
      },
      "source": [
        "try:\n",
        "  from google.colab import files\n",
        "except ImportError:\n",
        "  pass\n",
        "else:\n",
        "  files.download(anim_file)"
      ],
      "execution_count": 37,
      "outputs": []
    },
    {
      "cell_type": "markdown",
      "metadata": {
        "id": "k6qC-SbjK0yW"
      },
      "source": [
        "## 다음 단계"
      ]
    },
    {
      "cell_type": "markdown",
      "metadata": {
        "id": "xjjkT9KAK6H7"
      },
      "source": [
        "이 튜토리얼은 생성적 적대 신경망을 만들고 훈련하기에 필요한 코드를 보여줍니다. 다음 단계로, 다른 데이터셋을 이용하여 실험해보고 싶을 수도 있습니다. 예를 들면 [캐글에 올라온](https://www.kaggle.com/jessicali9530/celeba-dataset) 대규모 연예인 얼굴 데이터셋 (Large-scale Celeb Faces Attributes (CelebA))이 있습니다. 생성적 적대 신경망에 대해 더 배우기 원한다면, [NIPS 2016 튜토리얼: 생성적 적대 신경망](https://arxiv.org/abs/1701.00160)을 추천합니다."
      ]
    }
  ]
}